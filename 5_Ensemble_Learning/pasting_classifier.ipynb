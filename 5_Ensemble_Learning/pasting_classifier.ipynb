{
 "cells": [
  {
   "attachments": {},
   "cell_type": "markdown",
   "metadata": {},
   "source": [
    "# Out-of-Bag Evaluation"
   ]
  },
  {
   "attachments": {},
   "cell_type": "markdown",
   "metadata": {},
   "source": [
    "- When bagging, there are instances that will be sampled multiple times and some which may not be sampled.\n",
    "- The non-sampled instances are called out-of-bag (oob) instances. \n",
    "- You can tell the predictor to to use these instances which it never sees as an evaluation set through a simple parameter change. \n",
    "- oob_score=True\n"
   ]
  },
  {
   "cell_type": "code",
   "execution_count": null,
   "metadata": {},
   "outputs": [],
   "source": [
    "from sklearn.ensemble import BaggingClassifier \n",
    "from sklearn.tree import Decision TreeClassifier\n",
    "\n",
    "bag_clf = BaggingClassifier(\n",
    "    Decision TreeClassifier(), n_estinators=500, \n",
    "    max_samples=100, bootstrap=True, n_jobs=-1,\n",
    "    oob_score=True) # Bootstrap determines whether this is bagging or pasting \n",
    "bag_clf.fit(X_train, y_train)\n",
    "y_pred bag_clf.predict(X_test)\n",
    "\n",
    "bag_clf.oob_score_ # <- This shows the expected test accuracy\n",
    "bag_clf.oob_decision_function_ # <- This will give us the probabilities for ever y training instance\n"
   ]
  },
  {
   "attachments": {},
   "cell_type": "markdown",
   "metadata": {},
   "source": [
    "# Random Patches and Random Subspaces"
   ]
  },
  {
   "attachments": {},
   "cell_type": "markdown",
   "metadata": {},
   "source": [
    "Random patches refers to using random features and training instances to speed up training while sampling just features is called the random subspaces method.\n",
    "You can activate random patches by the max_features and the bootstrap."
   ]
  }
 ],
 "metadata": {
  "kernelspec": {
   "display_name": "base",
   "language": "python",
   "name": "python3"
  },
  "language_info": {
   "name": "python",
   "version": "3.9.12"
  },
  "orig_nbformat": 4
 },
 "nbformat": 4,
 "nbformat_minor": 2
}
